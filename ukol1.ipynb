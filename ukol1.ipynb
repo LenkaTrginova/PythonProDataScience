{
 "cells": [
  {
   "cell_type": "markdown",
   "metadata": {},
   "source": [
    "Vytvořte model lineární regrese pro předpověď šance na přijetí na vysokou školu"
   ]
  },
  {
   "cell_type": "code",
   "execution_count": 2,
   "metadata": {},
   "outputs": [],
   "source": [
    "import pandas as pd\n",
    "import seaborn as sns\n",
    "from scipy import stats\n",
    "import numpy as np\n",
    "import statsmodels.api as sm\n",
    "import statsmodels.formula.api as smf\n",
    "import matplotlib.pyplot as plt\n",
    "\n",
    "from statsmodels.stats.outliers_influence import OLSInfluence"
   ]
  },
  {
   "cell_type": "markdown",
   "metadata": {},
   "source": [
    "Dataset : GRE Score (max 340b), TOEFL Score (max 120b), University Rating (1-5), SOP/LOR/CGPA - síla motivačního dopisu a doporučení (1-5), Research - Zkušenost s výzkumem (0/1),\n",
    "Chance of Admin - šance na přijetí (mezi 0 a 1)"
   ]
  },
  {
   "cell_type": "markdown",
   "metadata": {},
   "source": [
    "PŘÍPRAVA DAT\n",
    "\n",
    "1. Načtěte dataset a ujistěte se, že rozumíte hodnotám ve sloupcích. Můžete změnit názvy sloupců a odstranit z nich mezery, což se vám může později hodit."
   ]
  },
  {
   "cell_type": "code",
   "execution_count": 3,
   "metadata": {},
   "outputs": [
    {
     "data": {
      "text/html": [
       "<div>\n",
       "<style scoped>\n",
       "    .dataframe tbody tr th:only-of-type {\n",
       "        vertical-align: middle;\n",
       "    }\n",
       "\n",
       "    .dataframe tbody tr th {\n",
       "        vertical-align: top;\n",
       "    }\n",
       "\n",
       "    .dataframe thead th {\n",
       "        text-align: right;\n",
       "    }\n",
       "</style>\n",
       "<table border=\"1\" class=\"dataframe\">\n",
       "  <thead>\n",
       "    <tr style=\"text-align: right;\">\n",
       "      <th></th>\n",
       "      <th>ID</th>\n",
       "      <th>GRE</th>\n",
       "      <th>TOEFL</th>\n",
       "      <th>UNIRATING</th>\n",
       "      <th>SOP</th>\n",
       "      <th>LOR</th>\n",
       "      <th>CGPA</th>\n",
       "      <th>RESEARCH</th>\n",
       "      <th>RESULT</th>\n",
       "    </tr>\n",
       "  </thead>\n",
       "  <tbody>\n",
       "    <tr>\n",
       "      <th>0</th>\n",
       "      <td>1</td>\n",
       "      <td>337</td>\n",
       "      <td>118</td>\n",
       "      <td>4</td>\n",
       "      <td>4.5</td>\n",
       "      <td>4.5</td>\n",
       "      <td>9.65</td>\n",
       "      <td>1</td>\n",
       "      <td>0.92</td>\n",
       "    </tr>\n",
       "    <tr>\n",
       "      <th>1</th>\n",
       "      <td>2</td>\n",
       "      <td>324</td>\n",
       "      <td>107</td>\n",
       "      <td>4</td>\n",
       "      <td>4.0</td>\n",
       "      <td>4.5</td>\n",
       "      <td>8.87</td>\n",
       "      <td>1</td>\n",
       "      <td>0.76</td>\n",
       "    </tr>\n",
       "    <tr>\n",
       "      <th>2</th>\n",
       "      <td>3</td>\n",
       "      <td>316</td>\n",
       "      <td>104</td>\n",
       "      <td>3</td>\n",
       "      <td>3.0</td>\n",
       "      <td>3.5</td>\n",
       "      <td>8.00</td>\n",
       "      <td>1</td>\n",
       "      <td>0.72</td>\n",
       "    </tr>\n",
       "    <tr>\n",
       "      <th>3</th>\n",
       "      <td>4</td>\n",
       "      <td>322</td>\n",
       "      <td>110</td>\n",
       "      <td>3</td>\n",
       "      <td>3.5</td>\n",
       "      <td>2.5</td>\n",
       "      <td>8.67</td>\n",
       "      <td>1</td>\n",
       "      <td>0.80</td>\n",
       "    </tr>\n",
       "    <tr>\n",
       "      <th>4</th>\n",
       "      <td>5</td>\n",
       "      <td>314</td>\n",
       "      <td>103</td>\n",
       "      <td>2</td>\n",
       "      <td>2.0</td>\n",
       "      <td>3.0</td>\n",
       "      <td>8.21</td>\n",
       "      <td>0</td>\n",
       "      <td>0.65</td>\n",
       "    </tr>\n",
       "  </tbody>\n",
       "</table>\n",
       "</div>"
      ],
      "text/plain": [
       "   ID  GRE  TOEFL  UNIRATING  SOP  LOR  CGPA  RESEARCH  RESULT\n",
       "0   1  337    118          4  4.5  4.5  9.65         1    0.92\n",
       "1   2  324    107          4  4.0  4.5  8.87         1    0.76\n",
       "2   3  316    104          3  3.0  3.5  8.00         1    0.72\n",
       "3   4  322    110          3  3.5  2.5  8.67         1    0.80\n",
       "4   5  314    103          2  2.0  3.0  8.21         0    0.65"
      ]
     },
     "execution_count": 3,
     "metadata": {},
     "output_type": "execute_result"
    }
   ],
   "source": [
    "dataset = pd.read_csv(\"adm_data.csv\")\n",
    "dataset.columns = dataset.columns.str.replace(' ', '')\n",
    "\n",
    "data=dataset.rename(columns={\"SerialNo.\": \"ID\", \"GREScore\": \"GRE\", \"TOEFLScore\":\"TOEFL\", \"UniversityRating\":\"UNIRATING\",\"Research\":\"RESEARCH\",\"ChanceofAdmit\":\"RESULT\"})\n",
    "\n",
    "data.head()"
   ]
  },
  {
   "cell_type": "markdown",
   "metadata": {},
   "source": [
    "NORMÁLNOST DAT PRO TOEFL SKÓRE\n",
    "\n",
    "1. Vypočtěte průměr a medián pro TOEFL skóre\n",
    "    1a. Průměr\n",
    "    1b. Medián\n",
    "2. Vypočítejte směrodatnou odchylku"
   ]
  },
  {
   "cell_type": "code",
   "execution_count": 4,
   "metadata": {},
   "outputs": [
    {
     "name": "stdout",
     "output_type": "stream",
     "text": [
      "107.41\n",
      "107.0\n",
      "6.069513777374126\n"
     ]
    }
   ],
   "source": [
    "print(data[\"TOEFL\"].mean()) # ad 1a.\n",
    "print(data[\"TOEFL\"].median()) # ad 1b.\n",
    "print(data[\"TOEFL\"].std()) # ad 2."
   ]
  },
  {
   "cell_type": "markdown",
   "metadata": {},
   "source": [
    "Vytvořte histogram pro TOEFL skóre a nezapomeňte zobrazit odhadovanou křivku pravděpodobnostního rozdělení"
   ]
  },
  {
   "cell_type": "code",
   "execution_count": 5,
   "metadata": {},
   "outputs": [
    {
     "data": {
      "text/plain": [
       "<seaborn.axisgrid.FacetGrid at 0x1c37878b0a0>"
      ]
     },
     "execution_count": 5,
     "metadata": {},
     "output_type": "execute_result"
    },
    {
     "data": {
      "image/png": "[encoded data removed]",
      "text/plain": [
       "<Figure size 500x500 with 1 Axes>"
      ]
     },
     "metadata": {},
     "output_type": "display_data"
    }
   ],
   "source": [
    "ax=sns.displot(data=data, x=\"TOEFL\", kde=True)\n",
    "\n",
    "ax.set(xlabel=\"TOEFL skóre\", ylabel=\"Počet studentů\",\n",
    "       title=\"Histogram a pravděpodobnostní rozdělení pro TOEFL skóre\")"
   ]
  },
  {
   "cell_type": "markdown",
   "metadata": {},
   "source": [
    "Otestujte, zda je TOEFL skóre vybráno z normálního rozdělení pomocí statistického testu. Uvažujte hladinu ---?\n",
    "\n",
    "- H0: Data mají normální rozdělení.\n",
    "- H1: Data nemají normální rozdělení."
   ]
  },
  {
   "cell_type": "code",
   "execution_count": 6,
   "metadata": {},
   "outputs": [
    {
     "data": {
      "text/plain": [
       "NormaltestResult(statistic=11.070212103496331, pvalue=0.003945790155853822)"
      ]
     },
     "execution_count": 6,
     "metadata": {},
     "output_type": "execute_result"
    }
   ],
   "source": [
    "stats.normaltest(data[\"TOEFL\"])\n",
    "#p-hodnota je menší než 0,05 a tudíž (na 5% hladině významnosti) zamítám nulovou hypotézu -> data NEmají normální rozdělení"
   ]
  },
  {
   "cell_type": "markdown",
   "metadata": {},
   "source": [
    "TESTOVÁNÍ HYPOTÉZ\n",
    "\n",
    "1. Rozdělte data na studenty, kteří mají a nemají zkušenost s výzkumem\n",
    "2. Pro obě skupiny spočítejte průměrné GRE skóre\n",
    "3. Statisticky otestujte, zda existuje statisticky významný rozdíl v GRE skóre mezi těmito dvěma skupinami testů. Vyberte správný test a nezapomeňte krátce okomentovat vyhodnocení testu."
   ]
  },
  {
   "cell_type": "code",
   "execution_count": 7,
   "metadata": {},
   "outputs": [
    {
     "name": "stdout",
     "output_type": "stream",
     "text": [
      "322.85388127853884\n",
      "309.49171270718233\n"
     ]
    }
   ],
   "source": [
    "data[\"RESEARCH\"].value_counts() #219 má zkušenost, 181 nemá zkušenost\n",
    "\n",
    "research_yes = data[data[\"RESEARCH\"] == 1] # Ad 1.\n",
    "research_no = data[data[\"RESEARCH\"] == 0] # Ad 1.\n",
    "\n",
    "print(research_yes[\"GRE\"].mean())  # Ad 2.\n",
    "print(research_no[\"GRE\"].mean())  # Ad 2.\n"
   ]
  },
  {
   "cell_type": "code",
   "execution_count": 8,
   "metadata": {},
   "outputs": [
    {
     "data": {
      "text/plain": [
       "NormaltestResult(statistic=0.9962407495635873, pvalue=0.6076717821415273)"
      ]
     },
     "execution_count": 8,
     "metadata": {},
     "output_type": "execute_result"
    }
   ],
   "source": [
    "#H0: Neexistuje statisticky významný rozdíl v GRE skóre, bez ohledu na zkušenost studenta s výzkumem.\n",
    "#H1: Existuje statisticky významný rozdíl v GRE skóre, podle toho zda má student zkušenost s výzkumem.\n",
    "\n",
    "stats.normaltest(research_yes[\"GRE\"])\n",
    "stats.normaltest(research_no[\"GRE\"])\n",
    "\n",
    "# p-hodnota je >0,05 a proto (na 5% hladině významnosti) NEzamítám nulovou hypotézu -> Není žádný statisticky významný rozdíl v GRE podle toho zda student má, či nemá zkušenost s výzkumem."
   ]
  },
  {
   "cell_type": "markdown",
   "metadata": {},
   "source": [
    "KORELACE\n",
    "\n",
    "1. Vypočítejte korelaci mezi TOEFL skóre a GRE skóre\n",
    "2. Krátce okomentujte korelaci ---> Jedná se o poměrně silnou pozitivní závislost neboť hodnota je blízko 1 - tedy dá se předpokládat že pokud je vyšší TOEFL skóre, bude i vyšší GRE skóre a obě hodnoty rostou současně (přímá lineární závislost)\n",
    "3. Vytvořte korelační graf (sns.regplot) pro vysvětlovanou proměnnou \"šance na přijetí\" a proměnnou, která je s ní nejvíce korelovaná"
   ]
  },
  {
   "cell_type": "code",
   "execution_count": 9,
   "metadata": {},
   "outputs": [
    {
     "data": {
      "text/plain": [
       "0.8359768030143966"
      ]
     },
     "execution_count": 9,
     "metadata": {},
     "output_type": "execute_result"
    }
   ],
   "source": [
    "data[\"TOEFL\"].corr(data[\"GRE\"]) #0,836 - ad 1."
   ]
  },
  {
   "cell_type": "code",
   "execution_count": 10,
   "metadata": {},
   "outputs": [
    {
     "data": {
      "text/html": [
       "<div>\n",
       "<style scoped>\n",
       "    .dataframe tbody tr th:only-of-type {\n",
       "        vertical-align: middle;\n",
       "    }\n",
       "\n",
       "    .dataframe tbody tr th {\n",
       "        vertical-align: top;\n",
       "    }\n",
       "\n",
       "    .dataframe thead th {\n",
       "        text-align: right;\n",
       "    }\n",
       "</style>\n",
       "<table border=\"1\" class=\"dataframe\">\n",
       "  <thead>\n",
       "    <tr style=\"text-align: right;\">\n",
       "      <th></th>\n",
       "      <th>ID</th>\n",
       "      <th>GRE</th>\n",
       "      <th>TOEFL</th>\n",
       "      <th>UNIRATING</th>\n",
       "      <th>SOP</th>\n",
       "      <th>LOR</th>\n",
       "      <th>CGPA</th>\n",
       "      <th>RESEARCH</th>\n",
       "      <th>RESULT</th>\n",
       "    </tr>\n",
       "  </thead>\n",
       "  <tbody>\n",
       "    <tr>\n",
       "      <th>ID</th>\n",
       "      <td>1.000000</td>\n",
       "      <td>-0.097526</td>\n",
       "      <td>-0.147932</td>\n",
       "      <td>-0.169948</td>\n",
       "      <td>-0.166932</td>\n",
       "      <td>-0.088221</td>\n",
       "      <td>-0.045608</td>\n",
       "      <td>-0.063138</td>\n",
       "      <td>0.042336</td>\n",
       "    </tr>\n",
       "    <tr>\n",
       "      <th>GRE</th>\n",
       "      <td>-0.097526</td>\n",
       "      <td>1.000000</td>\n",
       "      <td>0.835977</td>\n",
       "      <td>0.668976</td>\n",
       "      <td>0.612831</td>\n",
       "      <td>0.557555</td>\n",
       "      <td>0.833060</td>\n",
       "      <td>0.580391</td>\n",
       "      <td>0.802610</td>\n",
       "    </tr>\n",
       "    <tr>\n",
       "      <th>TOEFL</th>\n",
       "      <td>-0.147932</td>\n",
       "      <td>0.835977</td>\n",
       "      <td>1.000000</td>\n",
       "      <td>0.695590</td>\n",
       "      <td>0.657981</td>\n",
       "      <td>0.567721</td>\n",
       "      <td>0.828417</td>\n",
       "      <td>0.489858</td>\n",
       "      <td>0.791594</td>\n",
       "    </tr>\n",
       "    <tr>\n",
       "      <th>UNIRATING</th>\n",
       "      <td>-0.169948</td>\n",
       "      <td>0.668976</td>\n",
       "      <td>0.695590</td>\n",
       "      <td>1.000000</td>\n",
       "      <td>0.734523</td>\n",
       "      <td>0.660123</td>\n",
       "      <td>0.746479</td>\n",
       "      <td>0.447783</td>\n",
       "      <td>0.711250</td>\n",
       "    </tr>\n",
       "    <tr>\n",
       "      <th>SOP</th>\n",
       "      <td>-0.166932</td>\n",
       "      <td>0.612831</td>\n",
       "      <td>0.657981</td>\n",
       "      <td>0.734523</td>\n",
       "      <td>1.000000</td>\n",
       "      <td>0.729593</td>\n",
       "      <td>0.718144</td>\n",
       "      <td>0.444029</td>\n",
       "      <td>0.675732</td>\n",
       "    </tr>\n",
       "    <tr>\n",
       "      <th>LOR</th>\n",
       "      <td>-0.088221</td>\n",
       "      <td>0.557555</td>\n",
       "      <td>0.567721</td>\n",
       "      <td>0.660123</td>\n",
       "      <td>0.729593</td>\n",
       "      <td>1.000000</td>\n",
       "      <td>0.670211</td>\n",
       "      <td>0.396859</td>\n",
       "      <td>0.669889</td>\n",
       "    </tr>\n",
       "    <tr>\n",
       "      <th>CGPA</th>\n",
       "      <td>-0.045608</td>\n",
       "      <td>0.833060</td>\n",
       "      <td>0.828417</td>\n",
       "      <td>0.746479</td>\n",
       "      <td>0.718144</td>\n",
       "      <td>0.670211</td>\n",
       "      <td>1.000000</td>\n",
       "      <td>0.521654</td>\n",
       "      <td>0.873289</td>\n",
       "    </tr>\n",
       "    <tr>\n",
       "      <th>RESEARCH</th>\n",
       "      <td>-0.063138</td>\n",
       "      <td>0.580391</td>\n",
       "      <td>0.489858</td>\n",
       "      <td>0.447783</td>\n",
       "      <td>0.444029</td>\n",
       "      <td>0.396859</td>\n",
       "      <td>0.521654</td>\n",
       "      <td>1.000000</td>\n",
       "      <td>0.553202</td>\n",
       "    </tr>\n",
       "    <tr>\n",
       "      <th>RESULT</th>\n",
       "      <td>0.042336</td>\n",
       "      <td>0.802610</td>\n",
       "      <td>0.791594</td>\n",
       "      <td>0.711250</td>\n",
       "      <td>0.675732</td>\n",
       "      <td>0.669889</td>\n",
       "      <td>0.873289</td>\n",
       "      <td>0.553202</td>\n",
       "      <td>1.000000</td>\n",
       "    </tr>\n",
       "  </tbody>\n",
       "</table>\n",
       "</div>"
      ],
      "text/plain": [
       "                 ID       GRE     TOEFL  UNIRATING       SOP       LOR  \\\n",
       "ID         1.000000 -0.097526 -0.147932  -0.169948 -0.166932 -0.088221   \n",
       "GRE       -0.097526  1.000000  0.835977   0.668976  0.612831  0.557555   \n",
       "TOEFL     -0.147932  0.835977  1.000000   0.695590  0.657981  0.567721   \n",
       "UNIRATING -0.169948  0.668976  0.695590   1.000000  0.734523  0.660123   \n",
       "SOP       -0.166932  0.612831  0.657981   0.734523  1.000000  0.729593   \n",
       "LOR       -0.088221  0.557555  0.567721   0.660123  0.729593  1.000000   \n",
       "CGPA      -0.045608  0.833060  0.828417   0.746479  0.718144  0.670211   \n",
       "RESEARCH  -0.063138  0.580391  0.489858   0.447783  0.444029  0.396859   \n",
       "RESULT     0.042336  0.802610  0.791594   0.711250  0.675732  0.669889   \n",
       "\n",
       "               CGPA  RESEARCH    RESULT  \n",
       "ID        -0.045608 -0.063138  0.042336  \n",
       "GRE        0.833060  0.580391  0.802610  \n",
       "TOEFL      0.828417  0.489858  0.791594  \n",
       "UNIRATING  0.746479  0.447783  0.711250  \n",
       "SOP        0.718144  0.444029  0.675732  \n",
       "LOR        0.670211  0.396859  0.669889  \n",
       "CGPA       1.000000  0.521654  0.873289  \n",
       "RESEARCH   0.521654  1.000000  0.553202  \n",
       "RESULT     0.873289  0.553202  1.000000  "
      ]
     },
     "execution_count": 10,
     "metadata": {},
     "output_type": "execute_result"
    }
   ],
   "source": [
    "data.corr() #s vysvětlovanou proměnnou RESULT nejvíce koreluje proměnná CGPA (0,873285)"
   ]
  },
  {
   "cell_type": "code",
   "execution_count": 11,
   "metadata": {},
   "outputs": [
    {
     "data": {
      "text/plain": [
       "<Axes: xlabel='RESULT', ylabel='CGPA'>"
      ]
     },
     "execution_count": 11,
     "metadata": {},
     "output_type": "execute_result"
    },
    {
     "data": {
      "image/png": "[encoded data removed]",
      "text/plain": [
       "<Figure size 640x480 with 1 Axes>"
      ]
     },
     "metadata": {},
     "output_type": "display_data"
    }
   ],
   "source": [
    "sns.regplot(data=data, x=\"RESULT\", y=\"CGPA\") # ad 3."
   ]
  },
  {
   "cell_type": "markdown",
   "metadata": {},
   "source": [
    "VYSVĚTLOVANÁ PROMĚNNÁ\n",
    "\n",
    "1. Naší vysvětlovanou proměnnou bude \"šance na přijetí\" - vytvořte boxplot pro tuto proměnnou, aby bylo možné vizuálně identifikovat případné odlehlé hodnoty\n",
    "2. Odstraňte odlehlá pozorování na základě kritérií zjištěných z boxplotu"
   ]
  },
  {
   "cell_type": "code",
   "execution_count": 12,
   "metadata": {},
   "outputs": [
    {
     "data": {
      "text/plain": [
       "<Axes: xlabel='RESULT'>"
      ]
     },
     "execution_count": 12,
     "metadata": {},
     "output_type": "execute_result"
    },
    {
     "data": {
      "image/png": "[encoded data removed]",
      "text/plain": [
       "<Figure size 640x480 with 1 Axes>"
      ]
     },
     "metadata": {},
     "output_type": "display_data"
    }
   ],
   "source": [
    "sns.boxplot(data, x=\"RESULT\", whis=[5, 95]) # ad 1."
   ]
  },
  {
   "cell_type": "code",
   "execution_count": 13,
   "metadata": {},
   "outputs": [
    {
     "data": {
      "text/html": [
       "<div>\n",
       "<style scoped>\n",
       "    .dataframe tbody tr th:only-of-type {\n",
       "        vertical-align: middle;\n",
       "    }\n",
       "\n",
       "    .dataframe tbody tr th {\n",
       "        vertical-align: top;\n",
       "    }\n",
       "\n",
       "    .dataframe thead th {\n",
       "        text-align: right;\n",
       "    }\n",
       "</style>\n",
       "<table border=\"1\" class=\"dataframe\">\n",
       "  <thead>\n",
       "    <tr style=\"text-align: right;\">\n",
       "      <th></th>\n",
       "      <th>ID</th>\n",
       "      <th>GRE</th>\n",
       "      <th>TOEFL</th>\n",
       "      <th>UNIRATING</th>\n",
       "      <th>SOP</th>\n",
       "      <th>LOR</th>\n",
       "      <th>CGPA</th>\n",
       "      <th>RESEARCH</th>\n",
       "      <th>RESULT</th>\n",
       "      <th>Cook Distance</th>\n",
       "    </tr>\n",
       "  </thead>\n",
       "  <tbody>\n",
       "    <tr>\n",
       "      <th>0</th>\n",
       "      <td>1</td>\n",
       "      <td>337</td>\n",
       "      <td>118</td>\n",
       "      <td>4</td>\n",
       "      <td>4.5</td>\n",
       "      <td>4.5</td>\n",
       "      <td>9.65</td>\n",
       "      <td>1</td>\n",
       "      <td>0.92</td>\n",
       "      <td>0.008429</td>\n",
       "    </tr>\n",
       "    <tr>\n",
       "      <th>1</th>\n",
       "      <td>2</td>\n",
       "      <td>324</td>\n",
       "      <td>107</td>\n",
       "      <td>4</td>\n",
       "      <td>4.0</td>\n",
       "      <td>4.5</td>\n",
       "      <td>8.87</td>\n",
       "      <td>1</td>\n",
       "      <td>0.76</td>\n",
       "      <td>0.006889</td>\n",
       "    </tr>\n",
       "    <tr>\n",
       "      <th>2</th>\n",
       "      <td>3</td>\n",
       "      <td>316</td>\n",
       "      <td>104</td>\n",
       "      <td>3</td>\n",
       "      <td>3.0</td>\n",
       "      <td>3.5</td>\n",
       "      <td>8.00</td>\n",
       "      <td>1</td>\n",
       "      <td>0.72</td>\n",
       "      <td>0.009827</td>\n",
       "    </tr>\n",
       "    <tr>\n",
       "      <th>3</th>\n",
       "      <td>4</td>\n",
       "      <td>322</td>\n",
       "      <td>110</td>\n",
       "      <td>3</td>\n",
       "      <td>3.5</td>\n",
       "      <td>2.5</td>\n",
       "      <td>8.67</td>\n",
       "      <td>1</td>\n",
       "      <td>0.80</td>\n",
       "      <td>0.008990</td>\n",
       "    </tr>\n",
       "    <tr>\n",
       "      <th>4</th>\n",
       "      <td>5</td>\n",
       "      <td>314</td>\n",
       "      <td>103</td>\n",
       "      <td>2</td>\n",
       "      <td>2.0</td>\n",
       "      <td>3.0</td>\n",
       "      <td>8.21</td>\n",
       "      <td>0</td>\n",
       "      <td>0.65</td>\n",
       "      <td>0.008399</td>\n",
       "    </tr>\n",
       "  </tbody>\n",
       "</table>\n",
       "</div>"
      ],
      "text/plain": [
       "   ID  GRE  TOEFL  UNIRATING  SOP  LOR  CGPA  RESEARCH  RESULT  Cook Distance\n",
       "0   1  337    118          4  4.5  4.5  9.65         1    0.92       0.008429\n",
       "1   2  324    107          4  4.0  4.5  8.87         1    0.76       0.006889\n",
       "2   3  316    104          3  3.0  3.5  8.00         1    0.72       0.009827\n",
       "3   4  322    110          3  3.5  2.5  8.67         1    0.80       0.008990\n",
       "4   5  314    103          2  2.0  3.0  8.21         0    0.65       0.008399"
      ]
     },
     "execution_count": 13,
     "metadata": {},
     "output_type": "execute_result"
    }
   ],
   "source": [
    "formula = \"RESULT ~ ID + TOEFL + GRE + UNIRATING + SOP + LOR + CGPA + RESEARCH + RESULT\"\n",
    "mod = smf.ols(formula=formula, data=data)\n",
    "results = mod.fit()\n",
    "influence = OLSInfluence(results)\n",
    "data['Cook Distance'] = influence.cooks_distance[0]\n",
    "data.head()"
   ]
  },
  {
   "cell_type": "code",
   "execution_count": 18,
   "metadata": {},
   "outputs": [
    {
     "data": {
      "text/html": [
       "<table class=\"simpletable\">\n",
       "<caption>OLS Regression Results</caption>\n",
       "<tr>\n",
       "  <th>Dep. Variable:</th>         <td>RESULT</td>      <th>  R-squared:         </th>  <td>   1.000</td> \n",
       "</tr>\n",
       "<tr>\n",
       "  <th>Model:</th>                   <td>OLS</td>       <th>  Adj. R-squared:    </th>  <td>   1.000</td> \n",
       "</tr>\n",
       "<tr>\n",
       "  <th>Method:</th>             <td>Least Squares</td>  <th>  F-statistic:       </th>  <td>4.881e+27</td>\n",
       "</tr>\n",
       "<tr>\n",
       "  <th>Date:</th>             <td>Thu, 02 May 2024</td> <th>  Prob (F-statistic):</th>   <td>  0.00</td>  \n",
       "</tr>\n",
       "<tr>\n",
       "  <th>Time:</th>                 <td>13:34:44</td>     <th>  Log-Likelihood:    </th>  <td>  12209.</td> \n",
       "</tr>\n",
       "<tr>\n",
       "  <th>No. Observations:</th>      <td>   400</td>      <th>  AIC:               </th> <td>-2.440e+04</td>\n",
       "</tr>\n",
       "<tr>\n",
       "  <th>Df Residuals:</th>          <td>   390</td>      <th>  BIC:               </th> <td>-2.436e+04</td>\n",
       "</tr>\n",
       "<tr>\n",
       "  <th>Df Model:</th>              <td>     9</td>      <th>                     </th>      <td> </td>    \n",
       "</tr>\n",
       "<tr>\n",
       "  <th>Covariance Type:</th>      <td>nonrobust</td>    <th>                     </th>      <td> </td>    \n",
       "</tr>\n",
       "</table>\n",
       "<table class=\"simpletable\">\n",
       "<tr>\n",
       "      <td></td>         <th>coef</th>     <th>std err</th>      <th>t</th>      <th>P>|t|</th>  <th>[0.025</th>    <th>0.975]</th>  \n",
       "</tr>\n",
       "<tr>\n",
       "  <th>Intercept</th> <td>-5.551e-17</td> <td> 3.03e-14</td> <td>   -0.002</td> <td> 0.999</td> <td>-5.96e-14</td> <td> 5.95e-14</td>\n",
       "</tr>\n",
       "<tr>\n",
       "  <th>ID</th>        <td>-1.139e-16</td> <td> 6.39e-18</td> <td>  -17.814</td> <td> 0.000</td> <td>-1.26e-16</td> <td>-1.01e-16</td>\n",
       "</tr>\n",
       "<tr>\n",
       "  <th>TOEFL</th>     <td> 4.857e-17</td> <td> 2.38e-16</td> <td>    0.204</td> <td> 0.838</td> <td>-4.19e-16</td> <td> 5.16e-16</td>\n",
       "</tr>\n",
       "<tr>\n",
       "  <th>GRE</th>       <td> 6.462e-17</td> <td> 1.29e-16</td> <td>    0.501</td> <td> 0.617</td> <td>-1.89e-16</td> <td> 3.18e-16</td>\n",
       "</tr>\n",
       "<tr>\n",
       "  <th>UNIRATING</th> <td>-2.862e-17</td> <td> 1.03e-15</td> <td>   -0.028</td> <td> 0.978</td> <td>-2.05e-15</td> <td> 1.99e-15</td>\n",
       "</tr>\n",
       "<tr>\n",
       "  <th>SOP</th>       <td> 1.735e-17</td> <td> 1.19e-15</td> <td>    0.015</td> <td> 0.988</td> <td>-2.33e-15</td> <td> 2.36e-15</td>\n",
       "</tr>\n",
       "<tr>\n",
       "  <th>LOR</th>       <td> 3.123e-17</td> <td> 1.21e-15</td> <td>    0.026</td> <td> 0.979</td> <td>-2.34e-15</td> <td>  2.4e-15</td>\n",
       "</tr>\n",
       "<tr>\n",
       "  <th>CGPA</th>      <td>-1.665e-16</td> <td> 2.91e-15</td> <td>   -0.057</td> <td> 0.954</td> <td>-5.88e-15</td> <td> 5.55e-15</td>\n",
       "</tr>\n",
       "<tr>\n",
       "  <th>RESEARCH</th>  <td>-1.284e-16</td> <td> 1.72e-15</td> <td>   -0.075</td> <td> 0.940</td> <td>-3.51e-15</td> <td> 3.25e-15</td>\n",
       "</tr>\n",
       "<tr>\n",
       "  <th>RESULT</th>    <td>    1.0000</td> <td> 1.12e-14</td> <td> 8.92e+13</td> <td> 0.000</td> <td>    1.000</td> <td>    1.000</td>\n",
       "</tr>\n",
       "</table>\n",
       "<table class=\"simpletable\">\n",
       "<tr>\n",
       "  <th>Omnibus:</th>       <td>221.847</td> <th>  Durbin-Watson:     </th> <td>   0.006</td>\n",
       "</tr>\n",
       "<tr>\n",
       "  <th>Prob(Omnibus):</th> <td> 0.000</td>  <th>  Jarque-Bera (JB):  </th> <td>  23.597</td>\n",
       "</tr>\n",
       "<tr>\n",
       "  <th>Skew:</th>          <td> 0.005</td>  <th>  Prob(JB):          </th> <td>7.51e-06</td>\n",
       "</tr>\n",
       "<tr>\n",
       "  <th>Kurtosis:</th>      <td> 1.810</td>  <th>  Cond. No.          </th> <td>1.79e+04</td>\n",
       "</tr>\n",
       "</table><br/><br/>Notes:<br/>[1] Standard Errors assume that the covariance matrix of the errors is correctly specified.<br/>[2] The condition number is large, 1.79e+04. This might indicate that there are<br/>strong multicollinearity or other numerical problems."
      ],
      "text/latex": [
       "\\begin{center}\n",
       "\\begin{tabular}{lclc}\n",
       "\\toprule\n",
       "\\textbf{Dep. Variable:}    &      RESULT      & \\textbf{  R-squared:         } &     1.000   \\\\\n",
       "\\textbf{Model:}            &       OLS        & \\textbf{  Adj. R-squared:    } &     1.000   \\\\\n",
       "\\textbf{Method:}           &  Least Squares   & \\textbf{  F-statistic:       } & 4.881e+27   \\\\\n",
       "\\textbf{Date:}             & Thu, 02 May 2024 & \\textbf{  Prob (F-statistic):} &     0.00    \\\\\n",
       "\\textbf{Time:}             &     13:34:44     & \\textbf{  Log-Likelihood:    } &    12209.   \\\\\n",
       "\\textbf{No. Observations:} &         400      & \\textbf{  AIC:               } & -2.440e+04  \\\\\n",
       "\\textbf{Df Residuals:}     &         390      & \\textbf{  BIC:               } & -2.436e+04  \\\\\n",
       "\\textbf{Df Model:}         &           9      & \\textbf{                     } &             \\\\\n",
       "\\textbf{Covariance Type:}  &    nonrobust     & \\textbf{                     } &             \\\\\n",
       "\\bottomrule\n",
       "\\end{tabular}\n",
       "\\begin{tabular}{lcccccc}\n",
       "                   & \\textbf{coef} & \\textbf{std err} & \\textbf{t} & \\textbf{P$> |$t$|$} & \\textbf{[0.025} & \\textbf{0.975]}  \\\\\n",
       "\\midrule\n",
       "\\textbf{Intercept} &   -5.551e-17  &     3.03e-14     &    -0.002  &         0.999        &    -5.96e-14    &     5.95e-14     \\\\\n",
       "\\textbf{ID}        &   -1.139e-16  &     6.39e-18     &   -17.814  &         0.000        &    -1.26e-16    &    -1.01e-16     \\\\\n",
       "\\textbf{TOEFL}     &    4.857e-17  &     2.38e-16     &     0.204  &         0.838        &    -4.19e-16    &     5.16e-16     \\\\\n",
       "\\textbf{GRE}       &    6.462e-17  &     1.29e-16     &     0.501  &         0.617        &    -1.89e-16    &     3.18e-16     \\\\\n",
       "\\textbf{UNIRATING} &   -2.862e-17  &     1.03e-15     &    -0.028  &         0.978        &    -2.05e-15    &     1.99e-15     \\\\\n",
       "\\textbf{SOP}       &    1.735e-17  &     1.19e-15     &     0.015  &         0.988        &    -2.33e-15    &     2.36e-15     \\\\\n",
       "\\textbf{LOR}       &    3.123e-17  &     1.21e-15     &     0.026  &         0.979        &    -2.34e-15    &      2.4e-15     \\\\\n",
       "\\textbf{CGPA}      &   -1.665e-16  &     2.91e-15     &    -0.057  &         0.954        &    -5.88e-15    &     5.55e-15     \\\\\n",
       "\\textbf{RESEARCH}  &   -1.284e-16  &     1.72e-15     &    -0.075  &         0.940        &    -3.51e-15    &     3.25e-15     \\\\\n",
       "\\textbf{RESULT}    &       1.0000  &     1.12e-14     &  8.92e+13  &         0.000        &        1.000    &        1.000     \\\\\n",
       "\\bottomrule\n",
       "\\end{tabular}\n",
       "\\begin{tabular}{lclc}\n",
       "\\textbf{Omnibus:}       & 221.847 & \\textbf{  Durbin-Watson:     } &    0.006  \\\\\n",
       "\\textbf{Prob(Omnibus):} &   0.000 & \\textbf{  Jarque-Bera (JB):  } &   23.597  \\\\\n",
       "\\textbf{Skew:}          &   0.005 & \\textbf{  Prob(JB):          } & 7.51e-06  \\\\\n",
       "\\textbf{Kurtosis:}      &   1.810 & \\textbf{  Cond. No.          } & 1.79e+04  \\\\\n",
       "\\bottomrule\n",
       "\\end{tabular}\n",
       "%\\caption{OLS Regression Results}\n",
       "\\end{center}\n",
       "\n",
       "Notes: \\newline\n",
       " [1] Standard Errors assume that the covariance matrix of the errors is correctly specified. \\newline\n",
       " [2] The condition number is large, 1.79e+04. This might indicate that there are \\newline\n",
       " strong multicollinearity or other numerical problems."
      ],
      "text/plain": [
       "<class 'statsmodels.iolib.summary.Summary'>\n",
       "\"\"\"\n",
       "                            OLS Regression Results                            \n",
       "==============================================================================\n",
       "Dep. Variable:                 RESULT   R-squared:                       1.000\n",
       "Model:                            OLS   Adj. R-squared:                  1.000\n",
       "Method:                 Least Squares   F-statistic:                 4.881e+27\n",
       "Date:                Thu, 02 May 2024   Prob (F-statistic):               0.00\n",
       "Time:                        13:34:44   Log-Likelihood:                 12209.\n",
       "No. Observations:                 400   AIC:                        -2.440e+04\n",
       "Df Residuals:                     390   BIC:                        -2.436e+04\n",
       "Df Model:                           9                                         \n",
       "Covariance Type:            nonrobust                                         \n",
       "==============================================================================\n",
       "                 coef    std err          t      P>|t|      [0.025      0.975]\n",
       "------------------------------------------------------------------------------\n",
       "Intercept  -5.551e-17   3.03e-14     -0.002      0.999   -5.96e-14    5.95e-14\n",
       "ID         -1.139e-16   6.39e-18    -17.814      0.000   -1.26e-16   -1.01e-16\n",
       "TOEFL       4.857e-17   2.38e-16      0.204      0.838   -4.19e-16    5.16e-16\n",
       "GRE         6.462e-17   1.29e-16      0.501      0.617   -1.89e-16    3.18e-16\n",
       "UNIRATING  -2.862e-17   1.03e-15     -0.028      0.978   -2.05e-15    1.99e-15\n",
       "SOP         1.735e-17   1.19e-15      0.015      0.988   -2.33e-15    2.36e-15\n",
       "LOR         3.123e-17   1.21e-15      0.026      0.979   -2.34e-15     2.4e-15\n",
       "CGPA       -1.665e-16   2.91e-15     -0.057      0.954   -5.88e-15    5.55e-15\n",
       "RESEARCH   -1.284e-16   1.72e-15     -0.075      0.940   -3.51e-15    3.25e-15\n",
       "RESULT         1.0000   1.12e-14   8.92e+13      0.000       1.000       1.000\n",
       "==============================================================================\n",
       "Omnibus:                      221.847   Durbin-Watson:                   0.006\n",
       "Prob(Omnibus):                  0.000   Jarque-Bera (JB):               23.597\n",
       "Skew:                           0.005   Prob(JB):                     7.51e-06\n",
       "Kurtosis:                       1.810   Cond. No.                     1.79e+04\n",
       "==============================================================================\n",
       "\n",
       "Notes:\n",
       "[1] Standard Errors assume that the covariance matrix of the errors is correctly specified.\n",
       "[2] The condition number is large, 1.79e+04. This might indicate that there are\n",
       "strong multicollinearity or other numerical problems.\n",
       "\"\"\""
      ]
     },
     "execution_count": 18,
     "metadata": {},
     "output_type": "execute_result"
    }
   ],
   "source": [
    "data_updated = data[data['Cook Distance'] < 1] # ad 2.\n",
    "mod = smf.ols(formula=formula, data=data_updated)\n",
    "res = mod.fit()\n",
    "res.summary()"
   ]
  },
  {
   "cell_type": "markdown",
   "metadata": {},
   "source": [
    "LINEÁRNÍ REGRESE\n",
    "\n",
    "1. Sestavte rovnici pro lineární regresi. Do rovnice zahrňte všechny proměnné které dávají smysl - viz níže\n",
    "2. Odhadněte parametry lineárního regresního modelu - viz níže\n",
    "3. Interpretujte koeficienty modelu. Které koeficienty jsou statisticky významné? Které proměnné mají největší vliv na šance na přijetí a proč?\n",
    "    - koeficienty: ID, TOEFL, GRE, UNIRATING, SOP, LOR, CGPA, RESEARCH, RESULT\n",
    "    - statisticky významné koeficienty (na 5% hladině významnosti) : TOEFL, GRE \n",
    "\n",
    "4. Vyhodnoťte kvalitu fitu vašeho lineárního regresního modelu pomocí koeficientu determinace R2 - R2=1 tudíž model lze vyhodnotit jako vhodný protože se nám podařilo vysvětlit 100% variability\n",
    "5. Spočítejte Cookovu vzdálenost pro jednotlivé body - viz výše\n",
    "6. histogram pro Cookovu vzdálenost - viz níže\n",
    "\n",
    "y (vysvětlovaná proměnná)= b0 + b1x (x=vysvětlující proměnná)\n",
    "    koeficienty: b0 - konstanta, \n",
    "                 b1 - směrnice přímky\n",
    "\n",
    "RESULT = intercept + ID.x1 + TOEFL.x2 + GRE.x3 + UNIRATING.x4 + SOP.x5 + LOR.x6 + CGPA.x7 + RESEARCH.x8"
   ]
  },
  {
   "cell_type": "code",
   "execution_count": 23,
   "metadata": {},
   "outputs": [
    {
     "data": {
      "text/plain": [
       "<Axes: xlabel='Cook Distance', ylabel='Count'>"
      ]
     },
     "execution_count": 23,
     "metadata": {},
     "output_type": "execute_result"
    },
    {
     "data": {
      "image/png": "[encoded data removed]",
      "text/plain": [
       "<Figure size 640x480 with 1 Axes>"
      ]
     },
     "metadata": {},
     "output_type": "display_data"
    }
   ],
   "source": [
    "sns.histplot(data=data, x=\"Cook Distance\")  #odstranila bych body s Cook.vzdáleností > 1"
   ]
  }
 ],
 "metadata": {
  "kernelspec": {
   "display_name": "Python 3",
   "language": "python",
   "name": "python3"
  },
  "language_info": {
   "codemirror_mode": {
    "name": "ipython",
    "version": 3
   },
   "file_extension": ".py",
   "mimetype": "text/x-python",
   "name": "python",
   "nbconvert_exporter": "python",
   "pygments_lexer": "ipython3",
   "version": "3.9.10"
  }
 },
 "nbformat": 4,
 "nbformat_minor": 2
}
